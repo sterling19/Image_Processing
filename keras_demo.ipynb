{
  "nbformat": 4,
  "nbformat_minor": 0,
  "metadata": {
    "colab": {
      "name": "google_colab_test.ipynb",
      "version": "0.3.2",
      "views": {},
      "default_view": {},
      "provenance": [],
      "collapsed_sections": []
    },
    "kernelspec": {
      "name": "python3",
      "display_name": "Python 3"
    },
    "accelerator": "GPU"
  },
  "cells": [
    {
      "metadata": {
        "id": "ZD7V7IMVOKGe",
        "colab_type": "text"
      },
      "cell_type": "markdown",
      "source": [
        "# Basic Keras\n",
        "\n",
        "---\n",
        "<b>Author</b>: Sterling Cutler\n",
        "<br>\n",
        "<b>Date</b>: 03/18/18\n",
        "<br>\n",
        "<b>Overview</b>: This notebook covers some basic features in Keras including Convolutional Neural Net (CNN), image augmentation, and layer freezing."
      ]
    },
    {
      "metadata": {
        "id": "BuP8HYBQM-sH",
        "colab_type": "code",
        "colab": {
          "autoexec": {
            "startup": false,
            "wait_interval": 0
          },
          "output_extras": [
            {
              "item_id": 1
            },
            {
              "item_id": 2
            }
          ],
          "base_uri": "https://localhost:8080/",
          "height": 51
        },
        "outputId": "4590d757-ae2b-42c6-cce1-9bd4f264826f",
        "executionInfo": {
          "status": "ok",
          "timestamp": 1521403263867,
          "user_tz": 240,
          "elapsed": 1621,
          "user": {
            "displayName": "Sterling",
            "photoUrl": "https://lh3.googleusercontent.com/a/default-user=s128",
            "userId": "112476884771348857283"
          }
        }
      },
      "cell_type": "code",
      "source": [
        "# Load modules\n",
        "import keras\n",
        "from keras.datasets import cifar10\n",
        "from keras.preprocessing.image import ImageDataGenerator\n",
        "from keras.models import Sequential\n",
        "from keras.layers import Dense, Dropout, Activation, Flatten\n",
        "from keras.layers import Conv2D, MaxPooling2D\n",
        "\n",
        "import matplotlib.pyplot as plt\n",
        "% matplotlib inline\n",
        "\n",
        "import tensorflow as tf\n",
        "print(tf.test.gpu_device_name())"
      ],
      "execution_count": 1,
      "outputs": [
        {
          "output_type": "stream",
          "text": [
            "Using TensorFlow backend.\n"
          ],
          "name": "stderr"
        },
        {
          "output_type": "stream",
          "text": [
            "/device:GPU:0\n"
          ],
          "name": "stdout"
        }
      ]
    },
    {
      "metadata": {
        "id": "VT_2DoGcXc6Q",
        "colab_type": "code",
        "colab": {
          "autoexec": {
            "startup": false,
            "wait_interval": 0
          }
        }
      },
      "cell_type": "code",
      "source": [
        "# Define training parameters\n",
        "BATCH_SIZE = 128\n",
        "NUM_CLASSES = 10\n",
        "EPOCHS = 10"
      ],
      "execution_count": 0,
      "outputs": []
    },
    {
      "metadata": {
        "id": "pUvgUiL-OFft",
        "colab_type": "code",
        "colab": {
          "autoexec": {
            "startup": false,
            "wait_interval": 0
          },
          "output_extras": [
            {
              "item_id": 1
            }
          ],
          "base_uri": "https://localhost:8080/",
          "height": 68
        },
        "outputId": "c80e40cf-a25a-49e4-b86e-284756fd4d21",
        "executionInfo": {
          "status": "ok",
          "timestamp": 1521403270775,
          "user_tz": 240,
          "elapsed": 470,
          "user": {
            "displayName": "Sterling",
            "photoUrl": "https://lh3.googleusercontent.com/a/default-user=s128",
            "userId": "112476884771348857283"
          }
        }
      },
      "cell_type": "code",
      "source": [
        "# Load train/test data\n",
        "(x_train, y_train), (x_test, y_test) = cifar10.load_data()\n",
        "print('x_train shape:', x_train.shape)\n",
        "print(x_train.shape[0], 'train samples')\n",
        "print(x_test.shape[0], 'test samples')"
      ],
      "execution_count": 3,
      "outputs": [
        {
          "output_type": "stream",
          "text": [
            "x_train shape: (50000, 32, 32, 3)\n",
            "50000 train samples\n",
            "10000 test samples\n"
          ],
          "name": "stdout"
        }
      ]
    },
    {
      "metadata": {
        "id": "p2_yaabROVIg",
        "colab_type": "code",
        "colab": {
          "autoexec": {
            "startup": false,
            "wait_interval": 0
          }
        }
      },
      "cell_type": "code",
      "source": [
        "# Convert class vectors to binary class matrices.\n",
        "y_train = keras.utils.to_categorical(y_train, NUM_CLASSES)\n",
        "y_test = keras.utils.to_categorical(y_test, NUM_CLASSES)"
      ],
      "execution_count": 0,
      "outputs": []
    },
    {
      "metadata": {
        "id": "xw2DcPqDPYp-",
        "colab_type": "code",
        "colab": {
          "autoexec": {
            "startup": false,
            "wait_interval": 0
          }
        }
      },
      "cell_type": "code",
      "source": [
        "# Convert to float and normalize\n",
        "x_train = x_train.astype('float32')\n",
        "x_test = x_test.astype('float32')\n",
        "\n",
        "x_train /= 255.\n",
        "x_test /= 255."
      ],
      "execution_count": 0,
      "outputs": []
    },
    {
      "metadata": {
        "id": "uS6Oxe_noo5C",
        "colab_type": "code",
        "colab": {
          "autoexec": {
            "startup": false,
            "wait_interval": 0
          },
          "output_extras": [
            {
              "item_id": 1
            }
          ],
          "base_uri": "https://localhost:8080/",
          "height": 170
        },
        "outputId": "c5f33e0e-78c7-48aa-d2ed-cf6362bd72d7",
        "executionInfo": {
          "status": "ok",
          "timestamp": 1521403301966,
          "user_tz": 240,
          "elapsed": 751,
          "user": {
            "displayName": "Sterling",
            "photoUrl": "https://lh3.googleusercontent.com/a/default-user=s128",
            "userId": "112476884771348857283"
          }
        }
      },
      "cell_type": "code",
      "source": [
        "# Create sample images and show unaugmented\n",
        "sample_images = x_train[:6]\n",
        "sample_labels = y_train[:6]\n",
        "\n",
        "fig, axes = plt.subplots(1, 6, squeeze=False, figsize=(15, 15))\n",
        "for i in range(6):\n",
        "  axes[0, i].axis('off')\n",
        "  axes[0, i].imshow(sample_images[i])"
      ],
      "execution_count": 6,
      "outputs": [
        {
          "output_type": "display_data",
          "data": {
            "image/png": "[encoded data removed]",
            "text/plain": [
              "<matplotlib.figure.Figure at 0x7f2ebf403630>"
            ]
          },
          "metadata": {
            "tags": []
          }
        }
      ]
    },
    {
      "metadata": {
        "id": "C4UQtOQ-cBZI",
        "colab_type": "code",
        "colab": {
          "autoexec": {
            "startup": false,
            "wait_interval": 0
          },
          "output_extras": [
            {
              "item_id": 1
            }
          ],
          "base_uri": "https://localhost:8080/",
          "height": 170
        },
        "outputId": "70da5a95-ff54-45f9-cd2d-c38d465cbba6",
        "executionInfo": {
          "status": "ok",
          "timestamp": 1521403305412,
          "user_tz": 240,
          "elapsed": 749,
          "user": {
            "displayName": "Sterling",
            "photoUrl": "https://lh3.googleusercontent.com/a/default-user=s128",
            "userId": "112476884771348857283"
          }
        }
      },
      "cell_type": "code",
      "source": [
        "# Randomly shift, rotate, and flip images\n",
        "srf_datagen = ImageDataGenerator(\n",
        "        rotation_range=90,\n",
        "        width_shift_range=0.2,\n",
        "        height_shift_range=0.2,\n",
        "        horizontal_flip=True,\n",
        "        vertical_flip=True)\n",
        "\n",
        "for X_batch, y_batch in srf_datagen.flow(sample_images, \n",
        "                                         sample_labels, \n",
        "                                         batch_size=6):\n",
        "  fig, axes = plt.subplots(1, 6, squeeze=False, figsize=(15, 15))\n",
        "  for i in range(6):\n",
        "    axes[0, i].axis('off')\n",
        "    axes[0, i].imshow(X_batch[i])\n",
        "  break"
      ],
      "execution_count": 7,
      "outputs": [
        {
          "output_type": "display_data",
          "data": {
            "image/png": "[encoded data removed]",
            "text/plain": [
              "<matplotlib.figure.Figure at 0x7f2ebf403240>"
            ]
          },
          "metadata": {
            "tags": []
          }
        }
      ]
    },
    {
      "metadata": {
        "id": "Fswt20eadKv8",
        "colab_type": "code",
        "colab": {
          "autoexec": {
            "startup": false,
            "wait_interval": 0
          },
          "output_extras": [
            {
              "item_id": 1
            }
          ],
          "base_uri": "https://localhost:8080/",
          "height": 170
        },
        "outputId": "a2707a5b-eea6-438c-91d7-bc566cf5e77a",
        "executionInfo": {
          "status": "ok",
          "timestamp": 1521403315829,
          "user_tz": 240,
          "elapsed": 722,
          "user": {
            "displayName": "Sterling",
            "photoUrl": "https://lh3.googleusercontent.com/a/default-user=s128",
            "userId": "112476884771348857283"
          }
        }
      },
      "cell_type": "code",
      "source": [
        "# Zoom in/out and shear images\n",
        "zoom_datagen = ImageDataGenerator(\n",
        "    zoom_range=[0.8, 1.2],\n",
        "    shear_range=0.45)\n",
        "\n",
        "for X_batch, y_batch in zoom_datagen.flow(sample_images, \n",
        "                                          sample_labels, \n",
        "                                          batch_size=6):\n",
        "  fig, axes = plt.subplots(1, 6, squeeze=False, figsize=(15, 15))\n",
        "  for i in range(6):\n",
        "    axes[0, i].axis('off')\n",
        "    axes[0, i].imshow(X_batch[i])\n",
        "  break"
      ],
      "execution_count": 8,
      "outputs": [
        {
          "output_type": "display_data",
          "data": {
            "image/png": "[encoded data removed]",
            "text/plain": [
              "<matplotlib.figure.Figure at 0x7f2eb9b7d2e8>"
            ]
          },
          "metadata": {
            "tags": []
          }
        }
      ]
    },
    {
      "metadata": {
        "id": "1-S4MpLdVsEc",
        "colab_type": "code",
        "colab": {
          "autoexec": {
            "startup": false,
            "wait_interval": 0
          }
        }
      },
      "cell_type": "code",
      "source": [
        "# Define model architecture\n",
        "feature_layers = [\n",
        "    Conv2D(32, (3, 3), padding='same', input_shape=x_train.shape[1:]),\n",
        "    Activation('relu'),\n",
        "    Conv2D(32, (3, 3)),\n",
        "    Activation('relu'),\n",
        "    MaxPooling2D(pool_size=(2, 2)),\n",
        "    Dropout(0.25),\n",
        "    Conv2D(64, (3, 3), padding='same'),\n",
        "    Activation('relu'),\n",
        "    Conv2D(64, (3, 3)),\n",
        "    Activation('relu'),\n",
        "    MaxPooling2D(pool_size=(2, 2)),\n",
        "    Dropout(0.25),\n",
        "    Flatten(),\n",
        "]\n",
        "\n",
        "classification_layers = [\n",
        "    Dense(512),\n",
        "    Activation('relu'),\n",
        "    Dropout(0.5),\n",
        "    Dense(NUM_CLASSES),\n",
        "    Activation('softmax')\n",
        "]"
      ],
      "execution_count": 0,
      "outputs": []
    },
    {
      "metadata": {
        "id": "pGXSIG74UIyv",
        "colab_type": "code",
        "colab": {
          "autoexec": {
            "startup": false,
            "wait_interval": 0
          }
        }
      },
      "cell_type": "code",
      "source": [
        "# Build and compile model\n",
        "model = Sequential(feature_layers + classification_layers)\n",
        "\n",
        "opt = keras.optimizers.rmsprop(lr=0.0001, decay=1e-6)\n",
        "\n",
        "model.compile(loss='categorical_crossentropy',\n",
        "              optimizer=opt,\n",
        "              metrics=['accuracy'])"
      ],
      "execution_count": 0,
      "outputs": []
    },
    {
      "metadata": {
        "id": "VMHBdPt0Ubw0",
        "colab_type": "code",
        "colab": {
          "autoexec": {
            "startup": false,
            "wait_interval": 0
          },
          "output_extras": [
            {
              "item_id": 103
            },
            {
              "item_id": 163
            },
            {
              "item_id": 251
            },
            {
              "item_id": 308
            },
            {
              "item_id": 365
            },
            {
              "item_id": 366
            }
          ],
          "base_uri": "https://localhost:8080/",
          "height": 377
        },
        "outputId": "c8d67ef3-0235-437a-98e7-5d08c0b41e7e",
        "executionInfo": {
          "status": "ok",
          "timestamp": 1521403628179,
          "user_tz": 240,
          "elapsed": 293924,
          "user": {
            "displayName": "Sterling",
            "photoUrl": "https://lh3.googleusercontent.com/a/default-user=s128",
            "userId": "112476884771348857283"
          }
        }
      },
      "cell_type": "code",
      "source": [
        "# Use image augmentation for training\n",
        "datagen = ImageDataGenerator(\n",
        "        width_shift_range=0.1,\n",
        "        height_shift_range=0.1,\n",
        "        horizontal_flip=True)\n",
        "\n",
        "model.fit_generator(datagen.flow(x_train, y_train, \n",
        "                        batch_size=BATCH_SIZE),\n",
        "                        epochs=EPOCHS,\n",
        "                        validation_data=(x_test, y_test),\n",
        "                        workers=4)"
      ],
      "execution_count": 11,
      "outputs": [
        {
          "output_type": "stream",
          "text": [
            "WARNING:tensorflow:Variable *= will be deprecated. Use variable.assign_mul if you want assignment to the variable value or 'x = x * y' if you want a new python Tensor object.\n",
            "Epoch 1/10\n",
            "391/391 [==============================] - 32s 81ms/step - loss: 2.0179 - acc: 0.2553 - val_loss: 1.7542 - val_acc: 0.3802\n",
            "Epoch 2/10\n",
            "107/391 [=======>......................] - ETA: 20s - loss: 1.8067 - acc: 0.3388"
          ],
          "name": "stdout"
        },
        {
          "output_type": "stream",
          "text": [
            "391/391 [==============================] - 30s 77ms/step - loss: 1.7573 - acc: 0.3570 - val_loss: 1.5893 - val_acc: 0.4375\n",
            "Epoch 3/10\n",
            "391/391 [==============================] - 29s 75ms/step - loss: 1.6455 - acc: 0.4009 - val_loss: 1.5526 - val_acc: 0.4395\n",
            "Epoch 4/10\n",
            "110/391 [=======>......................] - ETA: 19s - loss: 1.5910 - acc: 0.4240"
          ],
          "name": "stdout"
        },
        {
          "output_type": "stream",
          "text": [
            "391/391 [==============================] - 29s 75ms/step - loss: 1.5679 - acc: 0.4308 - val_loss: 1.4535 - val_acc: 0.4766\n",
            "Epoch 5/10\n",
            "391/391 [==============================] - 29s 74ms/step - loss: 1.5094 - acc: 0.4518 - val_loss: 1.3485 - val_acc: 0.5145\n",
            "Epoch 6/10\n",
            " 99/391 [======>.......................] - ETA: 19s - loss: 1.4743 - acc: 0.4655"
          ],
          "name": "stdout"
        },
        {
          "output_type": "stream",
          "text": [
            "391/391 [==============================] - 28s 71ms/step - loss: 1.4181 - acc: 0.4909 - val_loss: 1.3693 - val_acc: 0.5090\n",
            "Epoch 8/10\n",
            "391/391 [==============================] - 29s 74ms/step - loss: 1.3850 - acc: 0.5007 - val_loss: 1.2256 - val_acc: 0.5651\n",
            "Epoch 9/10\n",
            " 88/391 [=====>........................] - ETA: 20s - loss: 1.3597 - acc: 0.5127"
          ],
          "name": "stdout"
        },
        {
          "output_type": "stream",
          "text": [
            "391/391 [==============================] - 29s 74ms/step - loss: 1.3519 - acc: 0.5143 - val_loss: 1.1770 - val_acc: 0.5796\n",
            "Epoch 10/10\n",
            "391/391 [==============================] - 29s 74ms/step - loss: 1.3253 - acc: 0.5242 - val_loss: 1.2133 - val_acc: 0.5727\n"
          ],
          "name": "stdout"
        },
        {
          "output_type": "execute_result",
          "data": {
            "text/plain": [
              "<keras.callbacks.History at 0x7f2eb94fdda0>"
            ]
          },
          "metadata": {
            "tags": []
          },
          "execution_count": 11
        }
      ]
    },
    {
      "metadata": {
        "id": "x-2sgp-VoD3n",
        "colab_type": "code",
        "colab": {
          "autoexec": {
            "startup": false,
            "wait_interval": 0
          },
          "output_extras": [
            {
              "item_id": 8
            }
          ],
          "base_uri": "https://localhost:8080/",
          "height": 68
        },
        "outputId": "fc4ca066-7fa8-485c-a9d1-78113aef6ac1",
        "executionInfo": {
          "status": "ok",
          "timestamp": 1521403677664,
          "user_tz": 240,
          "elapsed": 1939,
          "user": {
            "displayName": "Sterling",
            "photoUrl": "https://lh3.googleusercontent.com/a/default-user=s128",
            "userId": "112476884771348857283"
          }
        }
      },
      "cell_type": "code",
      "source": [
        "# Score trained model.\n",
        "scores = model.evaluate(x_test, y_test, verbose=1)\n",
        "print('Test loss:', scores[0])\n",
        "print('Test accuracy:', scores[1])"
      ],
      "execution_count": 12,
      "outputs": [
        {
          "output_type": "stream",
          "text": [
            "10000/10000 [==============================] - 2s 162us/step\n",
            "Test loss: 1.2132898536682128\n",
            "Test accuracy: 0.5727\n"
          ],
          "name": "stdout"
        }
      ]
    },
    {
      "metadata": {
        "id": "-oZAeNEGXDv3",
        "colab_type": "code",
        "colab": {
          "autoexec": {
            "startup": false,
            "wait_interval": 0
          }
        }
      },
      "cell_type": "code",
      "source": [
        "# Freeze feature layers and recompile\n",
        "for l in feature_layers:\n",
        "    l.trainable = False\n",
        "\n",
        "model.compile(loss='categorical_crossentropy',\n",
        "              optimizer=opt,\n",
        "              metrics=['accuracy'])"
      ],
      "execution_count": 0,
      "outputs": []
    },
    {
      "metadata": {
        "id": "BF8iFpVNXoS8",
        "colab_type": "code",
        "colab": {
          "autoexec": {
            "startup": false,
            "wait_interval": 0
          },
          "output_extras": [
            {
              "item_id": 35
            },
            {
              "item_id": 103
            },
            {
              "item_id": 145
            },
            {
              "item_id": 146
            }
          ],
          "base_uri": "https://localhost:8080/",
          "height": 394
        },
        "outputId": "4689ed72-b1bb-46b4-e73e-770ae08193c4",
        "executionInfo": {
          "status": "ok",
          "timestamp": 1521403745696,
          "user_tz": 240,
          "elapsed": 57046,
          "user": {
            "displayName": "Sterling",
            "photoUrl": "https://lh3.googleusercontent.com/a/default-user=s128",
            "userId": "112476884771348857283"
          }
        }
      },
      "cell_type": "code",
      "source": [
        "# Retrain model without image augmentation\n",
        "model.fit(x_train, y_train, batch_size=BATCH_SIZE, epochs=EPOCHS)"
      ],
      "execution_count": 14,
      "outputs": [
        {
          "output_type": "stream",
          "text": [
            "Epoch 1/10\n",
            "50000/50000 [==============================] - 6s 116us/step - loss: 1.1905 - acc: 0.5766\n",
            "Epoch 2/10\n",
            "50000/50000 [==============================] - 6s 113us/step - loss: 1.1706 - acc: 0.5845\n",
            "Epoch 3/10\n",
            "50000/50000 [==============================] - 6s 112us/step - loss: 1.1549 - acc: 0.5887\n",
            "Epoch 4/10\n",
            "50000/50000 [==============================] - 6s 114us/step - loss: 1.1362 - acc: 0.5977\n",
            "Epoch 5/10\n",
            " 2048/50000 [>.............................] - ETA: 5s - loss: 1.1208 - acc: 0.6089"
          ],
          "name": "stdout"
        },
        {
          "output_type": "stream",
          "text": [
            "50000/50000 [==============================] - 6s 113us/step - loss: 1.1255 - acc: 0.6022\n",
            "Epoch 6/10\n",
            "50000/50000 [==============================] - 6s 113us/step - loss: 1.1170 - acc: 0.6038\n",
            "Epoch 7/10\n",
            "50000/50000 [==============================] - 6s 113us/step - loss: 1.1025 - acc: 0.6107\n",
            "Epoch 8/10\n",
            "50000/50000 [==============================] - 6s 113us/step - loss: 1.0978 - acc: 0.6124\n",
            "Epoch 9/10\n",
            " 6528/50000 [==>...........................] - ETA: 4s - loss: 1.0786 - acc: 0.6169"
          ],
          "name": "stdout"
        },
        {
          "output_type": "stream",
          "text": [
            "50000/50000 [==============================] - 6s 112us/step - loss: 1.0824 - acc: 0.6168\n",
            "Epoch 10/10\n",
            "50000/50000 [==============================] - 6s 113us/step - loss: 1.0736 - acc: 0.6214\n"
          ],
          "name": "stdout"
        },
        {
          "output_type": "execute_result",
          "data": {
            "text/plain": [
              "<keras.callbacks.History at 0x7f2eb91557b8>"
            ]
          },
          "metadata": {
            "tags": []
          },
          "execution_count": 14
        }
      ]
    },
    {
      "metadata": {
        "id": "sIsrNjfKU0gl",
        "colab_type": "code",
        "colab": {
          "autoexec": {
            "startup": false,
            "wait_interval": 0
          },
          "output_extras": [
            {
              "item_id": 8
            }
          ],
          "base_uri": "https://localhost:8080/",
          "height": 68
        },
        "outputId": "dddd50b1-c6df-4076-af07-40c5805d93fa",
        "executionInfo": {
          "status": "ok",
          "timestamp": 1521403749578,
          "user_tz": 240,
          "elapsed": 1877,
          "user": {
            "displayName": "Sterling",
            "photoUrl": "https://lh3.googleusercontent.com/a/default-user=s128",
            "userId": "112476884771348857283"
          }
        }
      },
      "cell_type": "code",
      "source": [
        "# Score final model.\n",
        "scores = model.evaluate(x_test, y_test, verbose=1)\n",
        "print('Test loss:', scores[0])\n",
        "print('Test accuracy:', scores[1])"
      ],
      "execution_count": 15,
      "outputs": [
        {
          "output_type": "stream",
          "text": [
            "10000/10000 [==============================] - 2s 164us/step\n",
            "Test loss: 1.0199754482269288\n",
            "Test accuracy: 0.6379\n"
          ],
          "name": "stdout"
        }
      ]
    }
  ]
}