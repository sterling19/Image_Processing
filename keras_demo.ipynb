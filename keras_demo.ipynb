{
  "nbformat": 4,
  "nbformat_minor": 0,
  "metadata": {
    "colab": {
      "name": "keras_demo.ipynb",
      "version": "0.3.2",
      "views": {},
      "default_view": {},
      "provenance": [],
      "collapsed_sections": []
    },
    "kernelspec": {
      "name": "python3",
      "display_name": "Python 3"
    },
    "accelerator": "GPU"
  },
  "cells": [
    {
      "metadata": {
        "id": "ZD7V7IMVOKGe",
        "colab_type": "text"
      },
      "cell_type": "markdown",
      "source": [
        "# Basic Keras\n",
        "\n",
        "---\n",
        "<b>Author</b>: Sterling Cutler\n",
        "<br>\n",
        "<b>Date</b>: 03/18/18\n",
        "<br>\n",
        "<b>Overview</b>: This notebook covers some basic features in Keras including Convolutional Neural Net (CNN), image augmentation, and layer freezing."
      ]
    },
    {
      "metadata": {
        "id": "BuP8HYBQM-sH",
        "colab_type": "code",
        "colab": {
          "autoexec": {
            "startup": false,
            "wait_interval": 0
          },
          "output_extras": [
            {
              "item_id": 1
            }
          ],
          "base_uri": "https://localhost:8080/",
          "height": 34
        },
        "outputId": "f4ccadfa-3852-45a5-d4a2-4cba31165333",
        "executionInfo": {
          "status": "ok",
          "timestamp": 1521503379369,
          "user_tz": 240,
          "elapsed": 2543,
          "user": {
            "displayName": "Sterling",
            "photoUrl": "https://lh3.googleusercontent.com/a/default-user=s128",
            "userId": "112476884771348857283"
          }
        }
      },
      "cell_type": "code",
      "source": [
        "# Load modules\n",
        "import numpy as np\n",
        "import matplotlib.pyplot as plt\n",
        "% matplotlib inline\n",
        "\n",
        "import keras\n",
        "from keras.datasets import cifar10\n",
        "from keras.preprocessing.image import ImageDataGenerator\n",
        "from keras.models import Sequential\n",
        "from keras.layers import Dense, Dropout, Activation, Flatten\n",
        "from keras.layers import Conv2D, MaxPooling2D\n",
        "from keras.callbacks import History"
      ],
      "execution_count": 1,
      "outputs": [
        {
          "output_type": "stream",
          "text": [
            "Using TensorFlow backend.\n"
          ],
          "name": "stderr"
        }
      ]
    },
    {
      "metadata": {
        "id": "VT_2DoGcXc6Q",
        "colab_type": "code",
        "colab": {
          "autoexec": {
            "startup": false,
            "wait_interval": 0
          }
        }
      },
      "cell_type": "code",
      "source": [
        "# Define training parameters\n",
        "BATCH_SIZE = 128\n",
        "NUM_CLASSES = 10\n",
        "EPOCHS = 30"
      ],
      "execution_count": 0,
      "outputs": []
    },
    {
      "metadata": {
        "id": "GfIleiMOmly7",
        "colab_type": "code",
        "colab": {
          "autoexec": {
            "startup": false,
            "wait_interval": 0
          }
        }
      },
      "cell_type": "code",
      "source": [
        "# Track CIFAR 10 labels\n",
        "labels = {0: 'airplane', 1: 'automobile', 2: 'bird', 3: 'cat', 4: 'deer', \n",
        "          5: 'dog', 6: 'frog', 7: 'horse', 8: 'ship', 9: 'truck'}"
      ],
      "execution_count": 0,
      "outputs": []
    },
    {
      "metadata": {
        "id": "pUvgUiL-OFft",
        "colab_type": "code",
        "colab": {
          "autoexec": {
            "startup": false,
            "wait_interval": 0
          },
          "output_extras": [
            {
              "item_id": 1
            }
          ],
          "base_uri": "https://localhost:8080/",
          "height": 68
        },
        "outputId": "81b6471b-3bbd-4e16-c3b1-49c609799f13",
        "executionInfo": {
          "status": "ok",
          "timestamp": 1521503386276,
          "user_tz": 240,
          "elapsed": 417,
          "user": {
            "displayName": "Sterling",
            "photoUrl": "https://lh3.googleusercontent.com/a/default-user=s128",
            "userId": "112476884771348857283"
          }
        }
      },
      "cell_type": "code",
      "source": [
        "# Load train/test data\n",
        "(x_train, y_train), (x_test, y_test) = cifar10.load_data()\n",
        "print('x_train shape:', x_train.shape)\n",
        "print(x_train.shape[0], 'train samples')\n",
        "print(x_test.shape[0], 'test samples')"
      ],
      "execution_count": 4,
      "outputs": [
        {
          "output_type": "stream",
          "text": [
            "x_train shape: (50000, 32, 32, 3)\n",
            "50000 train samples\n",
            "10000 test samples\n"
          ],
          "name": "stdout"
        }
      ]
    },
    {
      "metadata": {
        "id": "p2_yaabROVIg",
        "colab_type": "code",
        "colab": {
          "autoexec": {
            "startup": false,
            "wait_interval": 0
          }
        }
      },
      "cell_type": "code",
      "source": [
        "# One hot encode target labels\n",
        "y_train = keras.utils.to_categorical(y_train, NUM_CLASSES)\n",
        "y_test = keras.utils.to_categorical(y_test, NUM_CLASSES)"
      ],
      "execution_count": 0,
      "outputs": []
    },
    {
      "metadata": {
        "id": "xw2DcPqDPYp-",
        "colab_type": "code",
        "colab": {
          "autoexec": {
            "startup": false,
            "wait_interval": 0
          }
        }
      },
      "cell_type": "code",
      "source": [
        "# Convert to float and normalize\n",
        "x_train = x_train.astype('float32')\n",
        "x_test = x_test.astype('float32')\n",
        "\n",
        "x_train /= 255.\n",
        "x_test /= 255."
      ],
      "execution_count": 0,
      "outputs": []
    },
    {
      "metadata": {
        "id": "uS6Oxe_noo5C",
        "colab_type": "code",
        "colab": {
          "autoexec": {
            "startup": false,
            "wait_interval": 0
          },
          "output_extras": [
            {
              "item_id": 1
            }
          ],
          "base_uri": "https://localhost:8080/",
          "height": 182
        },
        "outputId": "d2cfa799-8c41-4741-bc6f-a8e04646ad87",
        "executionInfo": {
          "status": "ok",
          "timestamp": 1521503395270,
          "user_tz": 240,
          "elapsed": 697,
          "user": {
            "displayName": "Sterling",
            "photoUrl": "https://lh3.googleusercontent.com/a/default-user=s128",
            "userId": "112476884771348857283"
          }
        }
      },
      "cell_type": "code",
      "source": [
        "# Create sample images and show unaugmented\n",
        "import numpy as np\n",
        "\n",
        "sample_images = x_train[:6]\n",
        "sample_labels = y_train[:6]\n",
        "\n",
        "fig, axes = plt.subplots(1, 6, squeeze=False, figsize=(15, 15))\n",
        "for i in range(6):\n",
        "  axes[0, i].axis('off')\n",
        "  axes[0, i].set_title(labels[np.argmax(sample_labels[i])])\n",
        "  axes[0, i].imshow(sample_images[i])"
      ],
      "execution_count": 7,
      "outputs": [
        {
          "output_type": "display_data",
          "data": {
            "image/png": "[encoded data removed]",
            "text/plain": [
              "<matplotlib.figure.Figure at 0x7f149ae7f4e0>"
            ]
          },
          "metadata": {
            "tags": []
          }
        }
      ]
    },
    {
      "metadata": {
        "id": "C4UQtOQ-cBZI",
        "colab_type": "code",
        "colab": {
          "autoexec": {
            "startup": false,
            "wait_interval": 0
          },
          "output_extras": [
            {
              "item_id": 1
            }
          ],
          "base_uri": "https://localhost:8080/",
          "height": 182
        },
        "outputId": "8b5b7dc8-0300-460d-8d6f-ac52396f29ff",
        "executionInfo": {
          "status": "ok",
          "timestamp": 1521503399565,
          "user_tz": 240,
          "elapsed": 679,
          "user": {
            "displayName": "Sterling",
            "photoUrl": "https://lh3.googleusercontent.com/a/default-user=s128",
            "userId": "112476884771348857283"
          }
        }
      },
      "cell_type": "code",
      "source": [
        "# Randomly shift, rotate, and flip images\n",
        "srf_datagen = ImageDataGenerator(\n",
        "        rotation_range=90,\n",
        "        width_shift_range=0.2,\n",
        "        height_shift_range=0.2,\n",
        "        horizontal_flip=True,\n",
        "        vertical_flip=True)\n",
        "\n",
        "for X_batch, y_batch in srf_datagen.flow(sample_images, \n",
        "                                         sample_labels, \n",
        "                                         batch_size=6):\n",
        "  fig, axes = plt.subplots(1, 6, squeeze=False, figsize=(15, 15))\n",
        "  for i in range(6):\n",
        "    axes[0, i].axis('off')\n",
        "    axes[0, i].set_title(labels[np.argmax(y_batch[i])])\n",
        "    axes[0, i].imshow(X_batch[i])\n",
        "  break"
      ],
      "execution_count": 8,
      "outputs": [
        {
          "output_type": "display_data",
          "data": {
            "image/png": "[encoded data removed]",
            "text/plain": [
              "<matplotlib.figure.Figure at 0x7f1498cae588>"
            ]
          },
          "metadata": {
            "tags": []
          }
        }
      ]
    },
    {
      "metadata": {
        "id": "Fswt20eadKv8",
        "colab_type": "code",
        "colab": {
          "autoexec": {
            "startup": false,
            "wait_interval": 0
          },
          "output_extras": [
            {
              "item_id": 1
            }
          ],
          "base_uri": "https://localhost:8080/",
          "height": 182
        },
        "outputId": "95d334c9-d702-4b4e-f22f-a47dbe3d972f",
        "executionInfo": {
          "status": "ok",
          "timestamp": 1521503404792,
          "user_tz": 240,
          "elapsed": 682,
          "user": {
            "displayName": "Sterling",
            "photoUrl": "https://lh3.googleusercontent.com/a/default-user=s128",
            "userId": "112476884771348857283"
          }
        }
      },
      "cell_type": "code",
      "source": [
        "# Zoom in/out and shear images\n",
        "zoom_datagen = ImageDataGenerator(\n",
        "    zoom_range=[0.8, 1.2],\n",
        "    shear_range=0.45)\n",
        "\n",
        "for X_batch, y_batch in zoom_datagen.flow(sample_images, \n",
        "                                          sample_labels, \n",
        "                                          batch_size=6):\n",
        "  fig, axes = plt.subplots(1, 6, squeeze=False, figsize=(15, 15))\n",
        "  for i in range(6):\n",
        "    axes[0, i].axis('off')\n",
        "    axes[0, i].set_title(labels[np.argmax(y_batch[i])])\n",
        "    axes[0, i].imshow(X_batch[i])\n",
        "  break"
      ],
      "execution_count": 9,
      "outputs": [
        {
          "output_type": "display_data",
          "data": {
            "image/png": "[encoded data removed]",
            "text/plain": [
              "<matplotlib.figure.Figure at 0x7f1498cc5438>"
            ]
          },
          "metadata": {
            "tags": []
          }
        }
      ]
    },
    {
      "metadata": {
        "id": "1-S4MpLdVsEc",
        "colab_type": "code",
        "colab": {
          "autoexec": {
            "startup": false,
            "wait_interval": 0
          }
        }
      },
      "cell_type": "code",
      "source": [
        "# Define CNN model architecture\n",
        "feature_layers = [\n",
        "    Conv2D(32, (3, 3), padding='same', input_shape=x_train.shape[1:]),\n",
        "    Activation('relu'),\n",
        "    Conv2D(32, (3, 3)),\n",
        "    Activation('relu'),\n",
        "    MaxPooling2D(pool_size=(2, 2)),\n",
        "    Dropout(0.25),\n",
        "    Conv2D(64, (3, 3), padding='same'),\n",
        "    Activation('relu'),\n",
        "    Conv2D(64, (3, 3)),\n",
        "    Activation('relu'),\n",
        "    MaxPooling2D(pool_size=(2, 2)),\n",
        "    Dropout(0.25),\n",
        "    Flatten(),\n",
        "]\n",
        "\n",
        "classification_layers = [\n",
        "    Dense(512),\n",
        "    Activation('relu'),\n",
        "    Dropout(0.5),\n",
        "    Dense(NUM_CLASSES),\n",
        "    Activation('softmax')\n",
        "]"
      ],
      "execution_count": 0,
      "outputs": []
    },
    {
      "metadata": {
        "id": "pGXSIG74UIyv",
        "colab_type": "code",
        "colab": {
          "autoexec": {
            "startup": false,
            "wait_interval": 0
          }
        }
      },
      "cell_type": "code",
      "source": [
        "# Build and compile model\n",
        "model = Sequential(feature_layers + classification_layers)\n",
        "\n",
        "hist = History()\n",
        "opt = keras.optimizers.rmsprop(lr=0.0001, decay=1e-6)\n",
        "\n",
        "model.compile(loss='categorical_crossentropy',\n",
        "              optimizer=opt,\n",
        "              metrics=['accuracy'])"
      ],
      "execution_count": 0,
      "outputs": []
    },
    {
      "metadata": {
        "id": "VMHBdPt0Ubw0",
        "colab_type": "code",
        "colab": {
          "autoexec": {
            "startup": false,
            "wait_interval": 0
          },
          "output_extras": [
            {
              "item_id": 1
            }
          ],
          "base_uri": "https://localhost:8080/",
          "height": 34
        },
        "outputId": "9965503d-0a20-4fe4-f986-ccc453dfa9ea",
        "executionInfo": {
          "status": "ok",
          "timestamp": 1521504273116,
          "user_tz": 240,
          "elapsed": 785283,
          "user": {
            "displayName": "Sterling",
            "photoUrl": "https://lh3.googleusercontent.com/a/default-user=s128",
            "userId": "112476884771348857283"
          }
        }
      },
      "cell_type": "code",
      "source": [
        "# Train CNN model with image augmentation\n",
        "datagen = ImageDataGenerator(\n",
        "        width_shift_range=0.1,\n",
        "        height_shift_range=0.1,\n",
        "        horizontal_flip=True)\n",
        "\n",
        "model.fit_generator(datagen.flow(x_train, y_train, \n",
        "                        batch_size=BATCH_SIZE), \n",
        "                        epochs=EPOCHS,\n",
        "                        validation_data=(x_test, y_test),\n",
        "                        callbacks=[hist], \n",
        "                        verbose=0)\n",
        "\n",
        "print('Finished training')"
      ],
      "execution_count": 13,
      "outputs": [
        {
          "output_type": "stream",
          "text": [
            "Finished training\n"
          ],
          "name": "stdout"
        }
      ]
    },
    {
      "metadata": {
        "id": "x-2sgp-VoD3n",
        "colab_type": "code",
        "colab": {
          "autoexec": {
            "startup": false,
            "wait_interval": 0
          },
          "output_extras": [
            {
              "item_id": 8
            }
          ],
          "base_uri": "https://localhost:8080/",
          "height": 68
        },
        "outputId": "dcaf8b38-42f2-4855-8e72-1549079cfa35",
        "executionInfo": {
          "status": "ok",
          "timestamp": 1521504654975,
          "user_tz": 240,
          "elapsed": 1991,
          "user": {
            "displayName": "Sterling",
            "photoUrl": "https://lh3.googleusercontent.com/a/default-user=s128",
            "userId": "112476884771348857283"
          }
        }
      },
      "cell_type": "code",
      "source": [
        "# Score trained model\n",
        "scores = model.evaluate(x_test, y_test, verbose=1)\n",
        "print('Test loss:', scores[0])\n",
        "print('Test accuracy:', scores[1])"
      ],
      "execution_count": 14,
      "outputs": [
        {
          "output_type": "stream",
          "text": [
            "10000/10000 [==============================] - 2s 179us/step\n",
            "Test loss: 0.8376815577507019\n",
            "Test accuracy: 0.7094\n"
          ],
          "name": "stdout"
        }
      ]
    },
    {
      "metadata": {
        "id": "-oZAeNEGXDv3",
        "colab_type": "code",
        "colab": {
          "autoexec": {
            "startup": false,
            "wait_interval": 0
          }
        }
      },
      "cell_type": "code",
      "source": [
        "# Freeze feature layers and recompile\n",
        "for l in feature_layers:\n",
        "    l.trainable = False\n",
        "\n",
        "model.compile(loss='categorical_crossentropy',\n",
        "              optimizer=opt,\n",
        "              metrics=['accuracy'])"
      ],
      "execution_count": 0,
      "outputs": []
    },
    {
      "metadata": {
        "id": "BF8iFpVNXoS8",
        "colab_type": "code",
        "colab": {
          "autoexec": {
            "startup": false,
            "wait_interval": 0
          },
          "output_extras": [
            {
              "item_id": 1
            }
          ],
          "base_uri": "https://localhost:8080/",
          "height": 34
        },
        "outputId": "fdbfdb61-fdb1-449a-d0e2-aaca1bd009ec",
        "executionInfo": {
          "status": "ok",
          "timestamp": 1521504825417,
          "user_tz": 240,
          "elapsed": 159538,
          "user": {
            "displayName": "Sterling",
            "photoUrl": "https://lh3.googleusercontent.com/a/default-user=s128",
            "userId": "112476884771348857283"
          }
        }
      },
      "cell_type": "code",
      "source": [
        "# Train CNN model without image augmentation but with pretrained weights\n",
        "model.fit(x_train, y_train, batch_size=BATCH_SIZE, \n",
        "          epochs=EPOCHS, callbacks=[hist], verbose=0)\n",
        "\n",
        "print('Finished training')"
      ],
      "execution_count": 16,
      "outputs": [
        {
          "output_type": "stream",
          "text": [
            "Finished training\n"
          ],
          "name": "stdout"
        }
      ]
    },
    {
      "metadata": {
        "id": "sIsrNjfKU0gl",
        "colab_type": "code",
        "colab": {
          "autoexec": {
            "startup": false,
            "wait_interval": 0
          },
          "output_extras": [
            {
              "item_id": 8
            }
          ],
          "base_uri": "https://localhost:8080/",
          "height": 68
        },
        "outputId": "d4417978-e236-43b0-e779-76fe1b8c6d5e",
        "executionInfo": {
          "status": "ok",
          "timestamp": 1521504955378,
          "user_tz": 240,
          "elapsed": 2032,
          "user": {
            "displayName": "Sterling",
            "photoUrl": "https://lh3.googleusercontent.com/a/default-user=s128",
            "userId": "112476884771348857283"
          }
        }
      },
      "cell_type": "code",
      "source": [
        "# Score final model\n",
        "scores = model.evaluate(x_test, y_test, verbose=1)\n",
        "print('Test loss:', scores[0])\n",
        "print('Test accuracy:', scores[1])"
      ],
      "execution_count": 17,
      "outputs": [
        {
          "output_type": "stream",
          "text": [
            "10000/10000 [==============================] - 2s 174us/step\n",
            "Test loss: 0.6876614492416382\n",
            "Test accuracy: 0.7614\n"
          ],
          "name": "stdout"
        }
      ]
    }
  ]
}