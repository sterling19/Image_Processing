{
  "nbformat": 4,
  "nbformat_minor": 0,
  "metadata": {
    "colab": {
      "name": "keras_demo_v2.ipynb",
      "version": "0.3.2",
      "views": {},
      "default_view": {},
      "provenance": [],
      "collapsed_sections": []
    },
    "kernelspec": {
      "display_name": "Python [default]",
      "language": "python",
      "name": "python3"
    },
    "accelerator": "GPU"
  },
  "cells": [
    {
      "metadata": {
        "id": "ZD7V7IMVOKGe",
        "colab_type": "text"
      },
      "cell_type": "markdown",
      "source": [
        "# Basic CNN's with Keras\n",
        "\n",
        "---\n",
        "<b>Author</b>: Sterling Cutler\n",
        "<br>\n",
        "<b>Date</b>: 03/18/18\n",
        "<br>\n",
        "<b>Overview</b>: This notebook covers some features in working with Convolutional Neural Net (CNN) models in Keras. Certain parameters are set low for computational efficiency and demonstration purposes."
      ]
    },
    {
      "metadata": {
        "id": "35GbpG6RPEz6",
        "colab_type": "text"
      },
      "cell_type": "markdown",
      "source": [
        "#### Setup"
      ]
    },
    {
      "metadata": {
        "id": "ZmnOOG8rjWZd",
        "colab_type": "code",
        "colab": {
          "autoexec": {
            "startup": false,
            "wait_interval": 0
          },
          "base_uri": "https://localhost:8080/",
          "height": 34
        },
        "outputId": "d230d666-9f79-4cd4-cfb8-a9447970f187",
        "executionInfo": {
          "status": "ok",
          "timestamp": 1527387219391,
          "user_tz": 240,
          "elapsed": 1128,
          "user": {
            "displayName": "Sterling",
            "photoUrl": "https://lh3.googleusercontent.com/a/default-user=s128",
            "userId": "112476884771348857283"
          }
        }
      },
      "cell_type": "code",
      "source": [
        "# Set filepath\n",
        "import os\n",
        "filepath = os.getcwd()\n",
        "print(filepath)"
      ],
      "execution_count": 1,
      "outputs": [
        {
          "output_type": "stream",
          "text": [
            "/content\n"
          ],
          "name": "stdout"
        }
      ]
    },
    {
      "metadata": {
        "id": "PnvnathRjWeg",
        "colab_type": "code",
        "colab": {
          "autoexec": {
            "startup": false,
            "wait_interval": 0
          },
          "base_uri": "https://localhost:8080/",
          "height": 34
        },
        "outputId": "1cd96402-65ee-4506-d254-00eb2293b61c",
        "executionInfo": {
          "status": "ok",
          "timestamp": 1527387223091,
          "user_tz": 240,
          "elapsed": 3386,
          "user": {
            "displayName": "Sterling",
            "photoUrl": "https://lh3.googleusercontent.com/a/default-user=s128",
            "userId": "112476884771348857283"
          }
        }
      },
      "cell_type": "code",
      "source": [
        "# Create directories for weights and logs\n",
        "!mkdir weights\n",
        "!mkdir tensorboard\n",
        "!ls"
      ],
      "execution_count": 2,
      "outputs": [
        {
          "output_type": "stream",
          "text": [
            "datalab  tensorboard  weights\r\n"
          ],
          "name": "stdout"
        }
      ]
    },
    {
      "metadata": {
        "id": "8OesU40wjgCc",
        "colab_type": "code",
        "colab": {
          "autoexec": {
            "startup": false,
            "wait_interval": 0
          },
          "base_uri": "https://localhost:8080/",
          "height": 34
        },
        "outputId": "595d8a09-8400-4c0c-91bb-1b3b3cac9a2e",
        "executionInfo": {
          "status": "ok",
          "timestamp": 1527387224859,
          "user_tz": 240,
          "elapsed": 1685,
          "user": {
            "displayName": "Sterling",
            "photoUrl": "https://lh3.googleusercontent.com/a/default-user=s128",
            "userId": "112476884771348857283"
          }
        }
      },
      "cell_type": "code",
      "source": [
        "# Check GPU is running\n",
        "import tensorflow as tf\n",
        "tf.test.gpu_device_name()"
      ],
      "execution_count": 3,
      "outputs": [
        {
          "output_type": "execute_result",
          "data": {
            "text/plain": [
              "'/device:GPU:0'"
            ]
          },
          "metadata": {
            "tags": []
          },
          "execution_count": 3
        }
      ]
    },
    {
      "metadata": {
        "id": "CU6Xr81r6ID5",
        "colab_type": "text"
      },
      "cell_type": "markdown",
      "source": [
        "## Part One\n",
        "#### Sequential Model and Image Augmentation"
      ]
    },
    {
      "metadata": {
        "id": "BuP8HYBQM-sH",
        "colab_type": "code",
        "colab": {
          "autoexec": {
            "startup": false,
            "wait_interval": 0
          },
          "base_uri": "https://localhost:8080/",
          "height": 34
        },
        "outputId": "384125b1-9bcb-49d4-e40d-2a1067870997",
        "executionInfo": {
          "status": "ok",
          "timestamp": 1527387225212,
          "user_tz": 240,
          "elapsed": 270,
          "user": {
            "displayName": "Sterling",
            "photoUrl": "https://lh3.googleusercontent.com/a/default-user=s128",
            "userId": "112476884771348857283"
          }
        }
      },
      "cell_type": "code",
      "source": [
        "# Load modules\n",
        "import numpy as np\n",
        "import matplotlib.pyplot as plt\n",
        "% matplotlib inline\n",
        "\n",
        "import keras\n",
        "from keras.datasets import cifar10\n",
        "from keras.preprocessing.image import ImageDataGenerator\n",
        "from keras.models import Sequential\n",
        "from keras.layers import Dense, Dropout, Activation, Flatten\n",
        "from keras.layers import Conv2D, MaxPooling2D\n",
        "from keras.callbacks import History"
      ],
      "execution_count": 4,
      "outputs": [
        {
          "output_type": "stream",
          "text": [
            "Using TensorFlow backend.\n"
          ],
          "name": "stderr"
        }
      ]
    },
    {
      "metadata": {
        "id": "VT_2DoGcXc6Q",
        "colab_type": "code",
        "colab": {
          "autoexec": {
            "startup": false,
            "wait_interval": 0
          }
        }
      },
      "cell_type": "code",
      "source": [
        "# Define training parameters\n",
        "BATCH_SIZE = 128\n",
        "NUM_CLASSES = 10\n",
        "EPOCHS = 10\n",
        "RESNET_DEPTH = 20"
      ],
      "execution_count": 0,
      "outputs": []
    },
    {
      "metadata": {
        "id": "GfIleiMOmly7",
        "colab_type": "code",
        "colab": {
          "autoexec": {
            "startup": false,
            "wait_interval": 0
          }
        }
      },
      "cell_type": "code",
      "source": [
        "# Track CIFAR 10 labels\n",
        "labels = {0: 'airplane', 1: 'automobile', 2: 'bird', 3: 'cat', 4: 'deer', \n",
        "          5: 'dog', 6: 'frog', 7: 'horse', 8: 'ship', 9: 'truck'}"
      ],
      "execution_count": 0,
      "outputs": []
    },
    {
      "metadata": {
        "id": "pUvgUiL-OFft",
        "colab_type": "code",
        "colab": {
          "autoexec": {
            "startup": false,
            "wait_interval": 0
          },
          "base_uri": "https://localhost:8080/",
          "height": 68
        },
        "outputId": "96cf68f7-9ae0-4704-dd33-f88b2476c1ed",
        "executionInfo": {
          "status": "ok",
          "timestamp": 1527387226843,
          "user_tz": 240,
          "elapsed": 587,
          "user": {
            "displayName": "Sterling",
            "photoUrl": "https://lh3.googleusercontent.com/a/default-user=s128",
            "userId": "112476884771348857283"
          }
        }
      },
      "cell_type": "code",
      "source": [
        "# Load train/test data\n",
        "(x_train, y_train), (x_test, y_test) = cifar10.load_data()\n",
        "print('x_train shape:', x_train.shape)\n",
        "print(x_train.shape[0], 'train samples')\n",
        "print(x_test.shape[0], 'test samples')"
      ],
      "execution_count": 7,
      "outputs": [
        {
          "output_type": "stream",
          "text": [
            "x_train shape: (50000, 32, 32, 3)\n",
            "50000 train samples\n",
            "10000 test samples\n"
          ],
          "name": "stdout"
        }
      ]
    },
    {
      "metadata": {
        "id": "p2_yaabROVIg",
        "colab_type": "code",
        "colab": {
          "autoexec": {
            "startup": false,
            "wait_interval": 0
          }
        }
      },
      "cell_type": "code",
      "source": [
        "# One hot encode target labels\n",
        "y_train = keras.utils.to_categorical(y_train, NUM_CLASSES)\n",
        "y_test = keras.utils.to_categorical(y_test, NUM_CLASSES)"
      ],
      "execution_count": 0,
      "outputs": []
    },
    {
      "metadata": {
        "id": "xw2DcPqDPYp-",
        "colab_type": "code",
        "colab": {
          "autoexec": {
            "startup": false,
            "wait_interval": 0
          }
        }
      },
      "cell_type": "code",
      "source": [
        "# Convert to float and normalize\n",
        "x_train = x_train.astype('float32')\n",
        "x_test = x_test.astype('float32')\n",
        "\n",
        "x_train /= 255.\n",
        "x_test /= 255."
      ],
      "execution_count": 0,
      "outputs": []
    },
    {
      "metadata": {
        "id": "uS6Oxe_noo5C",
        "colab_type": "code",
        "colab": {
          "autoexec": {
            "startup": false,
            "wait_interval": 0
          },
          "base_uri": "https://localhost:8080/",
          "height": 182
        },
        "outputId": "3123b5d3-2d81-4c0f-db6b-e5124ec2e628",
        "executionInfo": {
          "status": "ok",
          "timestamp": 1527387229002,
          "user_tz": 240,
          "elapsed": 649,
          "user": {
            "displayName": "Sterling",
            "photoUrl": "https://lh3.googleusercontent.com/a/default-user=s128",
            "userId": "112476884771348857283"
          }
        }
      },
      "cell_type": "code",
      "source": [
        "# Create sample images and show unaugmented\n",
        "sample_images = x_train[:6]\n",
        "sample_labels = y_train[:6]\n",
        "\n",
        "fig, axes = plt.subplots(1, 6, squeeze=False, figsize=(15, 15))\n",
        "for i in range(6):\n",
        "  axes[0, i].axis('off')\n",
        "  axes[0, i].set_title(labels[np.argmax(sample_labels[i])])\n",
        "  axes[0, i].imshow(sample_images[i])"
      ],
      "execution_count": 10,
      "outputs": [
        {
          "output_type": "display_data",
          "data": {
            "image/png": "[encoded data removed]",
            "text/plain": [
              "<matplotlib.figure.Figure at 0x7f6f176170f0>"
            ]
          },
          "metadata": {
            "tags": []
          }
        }
      ]
    },
    {
      "metadata": {
        "id": "C4UQtOQ-cBZI",
        "colab_type": "code",
        "colab": {
          "autoexec": {
            "startup": false,
            "wait_interval": 0
          },
          "base_uri": "https://localhost:8080/",
          "height": 182
        },
        "outputId": "74fbf375-5cf0-45f7-e0cc-59d247d3874a",
        "executionInfo": {
          "status": "ok",
          "timestamp": 1527387229852,
          "user_tz": 240,
          "elapsed": 713,
          "user": {
            "displayName": "Sterling",
            "photoUrl": "https://lh3.googleusercontent.com/a/default-user=s128",
            "userId": "112476884771348857283"
          }
        }
      },
      "cell_type": "code",
      "source": [
        "# Randomly shift, rotate, and flip images\n",
        "srf_datagen = ImageDataGenerator(\n",
        "        rotation_range=90,\n",
        "        width_shift_range=0.2,\n",
        "        height_shift_range=0.2,\n",
        "        horizontal_flip=True,\n",
        "        vertical_flip=True)\n",
        "\n",
        "for X_batch, y_batch in srf_datagen.flow(sample_images, \n",
        "                                         sample_labels, \n",
        "                                         batch_size=6):\n",
        "  fig, axes = plt.subplots(1, 6, squeeze=False, figsize=(15, 15))\n",
        "  for i in range(6):\n",
        "    axes[0, i].axis('off')\n",
        "    axes[0, i].set_title(labels[np.argmax(y_batch[i])])\n",
        "    axes[0, i].imshow(X_batch[i])\n",
        "  break"
      ],
      "execution_count": 11,
      "outputs": [
        {
          "output_type": "display_data",
          "data": {
            "image/png": "[encoded data removed]",
            "text/plain": [
              "<matplotlib.figure.Figure at 0x7f6ee401d0b8>"
            ]
          },
          "metadata": {
            "tags": []
          }
        }
      ]
    },
    {
      "metadata": {
        "id": "Fswt20eadKv8",
        "colab_type": "code",
        "colab": {
          "autoexec": {
            "startup": false,
            "wait_interval": 0
          },
          "base_uri": "https://localhost:8080/",
          "height": 182
        },
        "outputId": "4a7b6717-b9e2-4f29-8cfd-f744b668912e",
        "executionInfo": {
          "status": "ok",
          "timestamp": 1527387230838,
          "user_tz": 240,
          "elapsed": 791,
          "user": {
            "displayName": "Sterling",
            "photoUrl": "https://lh3.googleusercontent.com/a/default-user=s128",
            "userId": "112476884771348857283"
          }
        }
      },
      "cell_type": "code",
      "source": [
        "# Zoom in/out and shear images\n",
        "zoom_datagen = ImageDataGenerator(\n",
        "    zoom_range=[0.8, 1.2],\n",
        "    shear_range=0.45)\n",
        "\n",
        "for X_batch, y_batch in zoom_datagen.flow(sample_images, \n",
        "                                          sample_labels, \n",
        "                                          batch_size=6):\n",
        "  fig, axes = plt.subplots(1, 6, squeeze=False, figsize=(15, 15))\n",
        "  for i in range(6):\n",
        "    axes[0, i].axis('off')\n",
        "    axes[0, i].set_title(labels[np.argmax(y_batch[i])])\n",
        "    axes[0, i].imshow(X_batch[i])\n",
        "  break"
      ],
      "execution_count": 12,
      "outputs": [
        {
          "output_type": "display_data",
          "data": {
            "image/png": "[encoded data removed]",
            "text/plain": [
              "<matplotlib.figure.Figure at 0x7f6f84450860>"
            ]
          },
          "metadata": {
            "tags": []
          }
        }
      ]
    },
    {
      "metadata": {
        "id": "1-S4MpLdVsEc",
        "colab_type": "code",
        "colab": {
          "autoexec": {
            "startup": false,
            "wait_interval": 0
          }
        }
      },
      "cell_type": "code",
      "source": [
        "# Define CNN model architecture\n",
        "feature_layers = [\n",
        "    Conv2D(32, (3, 3), padding='same', input_shape=x_train.shape[1:]),\n",
        "    Activation('relu'),\n",
        "    Conv2D(32, (3, 3)),\n",
        "    Activation('relu'),\n",
        "    MaxPooling2D(pool_size=(2, 2)),\n",
        "    Dropout(0.25),\n",
        "    Conv2D(64, (3, 3), padding='same'),\n",
        "    Activation('relu'),\n",
        "    Conv2D(64, (3, 3)),\n",
        "    Activation('relu'),\n",
        "    MaxPooling2D(pool_size=(2, 2)),\n",
        "    Dropout(0.25),\n",
        "    Flatten(),\n",
        "]\n",
        "\n",
        "classification_layers = [\n",
        "    Dense(512),\n",
        "    Activation('relu'),\n",
        "    Dropout(0.5),\n",
        "    Dense(NUM_CLASSES),\n",
        "    Activation('softmax')\n",
        "]"
      ],
      "execution_count": 0,
      "outputs": []
    },
    {
      "metadata": {
        "id": "pGXSIG74UIyv",
        "colab_type": "code",
        "colab": {
          "autoexec": {
            "startup": false,
            "wait_interval": 0
          }
        }
      },
      "cell_type": "code",
      "source": [
        "# Build and compile model\n",
        "model = Sequential(feature_layers + classification_layers)\n",
        "\n",
        "hist = History()\n",
        "opt = keras.optimizers.rmsprop(lr=0.0001, decay=1e-6)\n",
        "\n",
        "model.compile(loss='categorical_crossentropy',\n",
        "              optimizer=opt,\n",
        "              metrics=['accuracy'])"
      ],
      "execution_count": 0,
      "outputs": []
    },
    {
      "metadata": {
        "id": "VMHBdPt0Ubw0",
        "colab_type": "code",
        "colab": {
          "autoexec": {
            "startup": false,
            "wait_interval": 0
          },
          "base_uri": "https://localhost:8080/",
          "height": 71
        },
        "outputId": "f6fb8f39-08f6-4362-f582-357ba6036b7a",
        "executionInfo": {
          "status": "ok",
          "timestamp": 1527387479209,
          "user_tz": 240,
          "elapsed": 247455,
          "user": {
            "displayName": "Sterling",
            "photoUrl": "https://lh3.googleusercontent.com/a/default-user=s128",
            "userId": "112476884771348857283"
          }
        }
      },
      "cell_type": "code",
      "source": [
        "# Train CNN model with image augmentation\n",
        "datagen = ImageDataGenerator(\n",
        "        width_shift_range=0.1,\n",
        "        height_shift_range=0.1,\n",
        "        horizontal_flip=True)\n",
        "\n",
        "model.fit_generator(datagen.flow(x_train, y_train, \n",
        "                        batch_size=BATCH_SIZE), \n",
        "                        epochs=EPOCHS,\n",
        "                        validation_data=(x_test, y_test),\n",
        "                        callbacks=[hist], \n",
        "                        verbose=0) # in practice, better to set at 1\n",
        "\n",
        "print('Finished training')"
      ],
      "execution_count": 15,
      "outputs": [
        {
          "output_type": "stream",
          "text": [
            "WARNING:tensorflow:Variable *= will be deprecated. Use variable.assign_mul if you want assignment to the variable value or 'x = x * y' if you want a new python Tensor object.\n",
            "Finished training\n"
          ],
          "name": "stdout"
        }
      ]
    },
    {
      "metadata": {
        "id": "x-2sgp-VoD3n",
        "colab_type": "code",
        "colab": {
          "autoexec": {
            "startup": false,
            "wait_interval": 0
          },
          "base_uri": "https://localhost:8080/",
          "height": 68
        },
        "outputId": "0409d23b-d3a2-4ce9-bc20-f38683a4b67a",
        "executionInfo": {
          "status": "ok",
          "timestamp": 1527387481280,
          "user_tz": 240,
          "elapsed": 2016,
          "user": {
            "displayName": "Sterling",
            "photoUrl": "https://lh3.googleusercontent.com/a/default-user=s128",
            "userId": "112476884771348857283"
          }
        }
      },
      "cell_type": "code",
      "source": [
        "# Score trained model\n",
        "scores = model.evaluate(x_test, y_test, verbose=1)\n",
        "print('Test loss:', scores[0])\n",
        "print('Test accuracy:', scores[1])"
      ],
      "execution_count": 16,
      "outputs": [
        {
          "output_type": "stream",
          "text": [
            "10000/10000 [==============================] - 2s 172us/step\n",
            "Test loss: 1.2112836296081544\n",
            "Test accuracy: 0.5688\n"
          ],
          "name": "stdout"
        }
      ]
    },
    {
      "metadata": {
        "id": "-oZAeNEGXDv3",
        "colab_type": "code",
        "colab": {
          "autoexec": {
            "startup": false,
            "wait_interval": 0
          }
        }
      },
      "cell_type": "code",
      "source": [
        "# Freeze feature layers and recompile\n",
        "for l in feature_layers:\n",
        "    l.trainable = False\n",
        "\n",
        "model.compile(loss='categorical_crossentropy',\n",
        "              optimizer=opt,\n",
        "              metrics=['accuracy'])"
      ],
      "execution_count": 0,
      "outputs": []
    },
    {
      "metadata": {
        "id": "BF8iFpVNXoS8",
        "colab_type": "code",
        "colab": {
          "autoexec": {
            "startup": false,
            "wait_interval": 0
          },
          "base_uri": "https://localhost:8080/",
          "height": 34
        },
        "outputId": "1337d4ed-8abf-40ce-d159-77978dda42dd",
        "executionInfo": {
          "status": "ok",
          "timestamp": 1527387531710,
          "user_tz": 240,
          "elapsed": 49961,
          "user": {
            "displayName": "Sterling",
            "photoUrl": "https://lh3.googleusercontent.com/a/default-user=s128",
            "userId": "112476884771348857283"
          }
        }
      },
      "cell_type": "code",
      "source": [
        "# Continue training CNN model without image augmentation or validation set\n",
        "model.fit(x_train, y_train, \n",
        "          batch_size=BATCH_SIZE, \n",
        "          epochs=EPOCHS, \n",
        "          callbacks=[hist], \n",
        "          verbose=0)\n",
        "\n",
        "print('Finished training')"
      ],
      "execution_count": 18,
      "outputs": [
        {
          "output_type": "stream",
          "text": [
            "Finished training\n"
          ],
          "name": "stdout"
        }
      ]
    },
    {
      "metadata": {
        "id": "sIsrNjfKU0gl",
        "colab_type": "code",
        "colab": {
          "autoexec": {
            "startup": false,
            "wait_interval": 0
          },
          "base_uri": "https://localhost:8080/",
          "height": 68
        },
        "outputId": "01c81f8f-4cc6-45c4-c86e-83b8585f11e9",
        "executionInfo": {
          "status": "ok",
          "timestamp": 1527387533568,
          "user_tz": 240,
          "elapsed": 1793,
          "user": {
            "displayName": "Sterling",
            "photoUrl": "https://lh3.googleusercontent.com/a/default-user=s128",
            "userId": "112476884771348857283"
          }
        }
      },
      "cell_type": "code",
      "source": [
        "# Score final model\n",
        "scores = model.evaluate(x_test, y_test, verbose=1)\n",
        "print('Test loss:', scores[0])\n",
        "print('Test accuracy:', scores[1])"
      ],
      "execution_count": 19,
      "outputs": [
        {
          "output_type": "stream",
          "text": [
            "10000/10000 [==============================] - 2s 151us/step\n",
            "Test loss: 1.0315796798706054\n",
            "Test accuracy: 0.6412\n"
          ],
          "name": "stdout"
        }
      ]
    },
    {
      "metadata": {
        "id": "wT93nFxy6IFD",
        "colab_type": "text"
      },
      "cell_type": "markdown",
      "source": [
        "## Part Two\n",
        "#### Functional Model and Advanced Callbacks"
      ]
    },
    {
      "metadata": {
        "id": "jkAQ_a_W8For",
        "colab_type": "code",
        "colab": {
          "autoexec": {
            "startup": false,
            "wait_interval": 0
          }
        }
      },
      "cell_type": "code",
      "source": [
        "# Import functional model and additional model features\n",
        "from keras.models import Model\n",
        "from keras.layers import Input, AveragePooling2D, BatchNormalization\n",
        "from keras.regularizers import l2\n",
        "from keras.optimizers import Adam"
      ],
      "execution_count": 0,
      "outputs": []
    },
    {
      "metadata": {
        "id": "Y7rZD3hV6IFF",
        "colab_type": "code",
        "colab": {
          "autoexec": {
            "startup": false,
            "wait_interval": 0
          }
        }
      },
      "cell_type": "code",
      "source": [
        "# Define ResNet layer\n",
        "def resnet_layer(inputs,\n",
        "                 num_filters=16,\n",
        "                 kernel_size=3,\n",
        "                 strides=1,\n",
        "                 activation='relu',\n",
        "                 batch_normalization=True,\n",
        "                 conv_first=True):\n",
        "    conv = Conv2D(num_filters,\n",
        "                  kernel_size=kernel_size,\n",
        "                  strides=strides,\n",
        "                  padding='same',\n",
        "                  kernel_initializer='he_normal',\n",
        "                  kernel_regularizer=l2(1e-4))\n",
        "\n",
        "    x = inputs\n",
        "    if conv_first:\n",
        "        x = conv(x)\n",
        "        if batch_normalization:\n",
        "            x = BatchNormalization()(x)\n",
        "        if activation is not None:\n",
        "            x = Activation(activation)(x)\n",
        "    else:\n",
        "        if batch_normalization:\n",
        "            x = BatchNormalization()(x)\n",
        "        if activation is not None:\n",
        "            x = Activation(activation)(x)\n",
        "        x = conv(x)\n",
        "    return x"
      ],
      "execution_count": 0,
      "outputs": []
    },
    {
      "metadata": {
        "id": "-gEK4het6IFH",
        "colab_type": "code",
        "colab": {
          "autoexec": {
            "startup": false,
            "wait_interval": 0
          }
        }
      },
      "cell_type": "code",
      "source": [
        "# Define ResNet architecture \n",
        "#  - https://arxiv.org/pdf/1512.03385.pdf\n",
        "def resnet(input_shape, depth, num_classes):\n",
        "    if (depth - 2) % 6 != 0:\n",
        "        raise ValueError('depth should be 6n+2 (eg 20, 32, 44 in [a])')\n",
        "    \n",
        "    # Start model definition\n",
        "    num_filters = 16\n",
        "    num_res_blocks = int((depth - 2) / 6)\n",
        "    inputs = Input(shape=input_shape)\n",
        "    x = resnet_layer(inputs=inputs)\n",
        "    \n",
        "    # Instantiate the stack of residual units\n",
        "    for stack in range(3):\n",
        "        for res_block in range(num_res_blocks):\n",
        "            strides = 1\n",
        "            \n",
        "            # Downsample on first layer of subsequent stacks\n",
        "            if stack > 0 and res_block == 0:\n",
        "                strides = 2\n",
        "            y = resnet_layer(inputs=x,\n",
        "                             num_filters=num_filters,\n",
        "                             strides=strides)\n",
        "            y = resnet_layer(inputs=y,\n",
        "                             num_filters=num_filters,\n",
        "                             activation=None)\n",
        "            \n",
        "            # Build and add model layers\n",
        "            if stack > 0 and res_block == 0:\n",
        "                x = resnet_layer(inputs=x,\n",
        "                                 num_filters=num_filters,\n",
        "                                 kernel_size=1,\n",
        "                                 strides=strides,\n",
        "                                 activation=None,\n",
        "                                 batch_normalization=False)\n",
        "            x = keras.layers.add([x, y])\n",
        "            x = Activation('relu')(x)\n",
        "        num_filters *= 2\n",
        "\n",
        "    # Add classifier head\n",
        "    x = AveragePooling2D(pool_size=8)(x)\n",
        "    y = Flatten()(x)\n",
        "    outputs = Dense(num_classes,\n",
        "                    activation='softmax',\n",
        "                    kernel_initializer='he_normal')(y)\n",
        "\n",
        "    # Build and return model\n",
        "    model = Model(inputs=inputs, outputs=outputs)\n",
        "    return model"
      ],
      "execution_count": 0,
      "outputs": []
    },
    {
      "metadata": {
        "id": "kTXgDphK6IFI",
        "colab_type": "code",
        "colab": {
          "autoexec": {
            "startup": false,
            "wait_interval": 0
          }
        }
      },
      "cell_type": "code",
      "source": [
        "# Set learning rate schedule function\n",
        "def lr_schedule(epoch):\n",
        "    lr = 1e-3\n",
        "    if epoch > 7:\n",
        "        lr *= 0.5\n",
        "    print('Learning rate: ', lr)\n",
        "    return lr"
      ],
      "execution_count": 0,
      "outputs": []
    },
    {
      "metadata": {
        "id": "X9XQrSoA6IFL",
        "colab_type": "code",
        "colab": {
          "autoexec": {
            "startup": false,
            "wait_interval": 0
          },
          "base_uri": "https://localhost:8080/",
          "height": 2771
        },
        "outputId": "793ab580-70fe-46aa-b991-0492235875d5",
        "executionInfo": {
          "status": "ok",
          "timestamp": 1527387537657,
          "user_tz": 240,
          "elapsed": 2563,
          "user": {
            "displayName": "Sterling",
            "photoUrl": "https://lh3.googleusercontent.com/a/default-user=s128",
            "userId": "112476884771348857283"
          }
        }
      },
      "cell_type": "code",
      "source": [
        "# Compile model and show architecture\n",
        "resnet_model = resnet(input_shape=(32, 32, 3), \n",
        "                      depth=RESNET_DEPTH, \n",
        "                      num_classes=NUM_CLASSES)\n",
        "\n",
        "resnet_model.compile(loss='categorical_crossentropy',\n",
        "              optimizer=Adam(lr=lr_schedule(0)),\n",
        "              metrics=['accuracy'])\n",
        "\n",
        "print(resnet_model.summary())"
      ],
      "execution_count": 24,
      "outputs": [
        {
          "output_type": "stream",
          "text": [
            "Learning rate:  0.001\n",
            "__________________________________________________________________________________________________\n",
            "Layer (type)                    Output Shape         Param #     Connected to                     \n",
            "==================================================================================================\n",
            "input_1 (InputLayer)            (None, 32, 32, 3)    0                                            \n",
            "__________________________________________________________________________________________________\n",
            "conv2d_5 (Conv2D)               (None, 32, 32, 16)   448         input_1[0][0]                    \n",
            "__________________________________________________________________________________________________\n",
            "batch_normalization_1 (BatchNor (None, 32, 32, 16)   64          conv2d_5[0][0]                   \n",
            "__________________________________________________________________________________________________\n",
            "activation_7 (Activation)       (None, 32, 32, 16)   0           batch_normalization_1[0][0]      \n",
            "__________________________________________________________________________________________________\n",
            "conv2d_6 (Conv2D)               (None, 32, 32, 16)   2320        activation_7[0][0]               \n",
            "__________________________________________________________________________________________________\n",
            "batch_normalization_2 (BatchNor (None, 32, 32, 16)   64          conv2d_6[0][0]                   \n",
            "__________________________________________________________________________________________________\n",
            "activation_8 (Activation)       (None, 32, 32, 16)   0           batch_normalization_2[0][0]      \n",
            "__________________________________________________________________________________________________\n",
            "conv2d_7 (Conv2D)               (None, 32, 32, 16)   2320        activation_8[0][0]               \n",
            "__________________________________________________________________________________________________\n",
            "batch_normalization_3 (BatchNor (None, 32, 32, 16)   64          conv2d_7[0][0]                   \n",
            "__________________________________________________________________________________________________\n",
            "add_1 (Add)                     (None, 32, 32, 16)   0           activation_7[0][0]               \n",
            "                                                                 batch_normalization_3[0][0]      \n",
            "__________________________________________________________________________________________________\n",
            "activation_9 (Activation)       (None, 32, 32, 16)   0           add_1[0][0]                      \n",
            "__________________________________________________________________________________________________\n",
            "conv2d_8 (Conv2D)               (None, 32, 32, 16)   2320        activation_9[0][0]               \n",
            "__________________________________________________________________________________________________\n",
            "batch_normalization_4 (BatchNor (None, 32, 32, 16)   64          conv2d_8[0][0]                   \n",
            "__________________________________________________________________________________________________\n",
            "activation_10 (Activation)      (None, 32, 32, 16)   0           batch_normalization_4[0][0]      \n",
            "__________________________________________________________________________________________________\n",
            "conv2d_9 (Conv2D)               (None, 32, 32, 16)   2320        activation_10[0][0]              \n",
            "__________________________________________________________________________________________________\n",
            "batch_normalization_5 (BatchNor (None, 32, 32, 16)   64          conv2d_9[0][0]                   \n",
            "__________________________________________________________________________________________________\n",
            "add_2 (Add)                     (None, 32, 32, 16)   0           activation_9[0][0]               \n",
            "                                                                 batch_normalization_5[0][0]      \n",
            "__________________________________________________________________________________________________\n",
            "activation_11 (Activation)      (None, 32, 32, 16)   0           add_2[0][0]                      \n",
            "__________________________________________________________________________________________________\n",
            "conv2d_10 (Conv2D)              (None, 32, 32, 16)   2320        activation_11[0][0]              \n",
            "__________________________________________________________________________________________________\n",
            "batch_normalization_6 (BatchNor (None, 32, 32, 16)   64          conv2d_10[0][0]                  \n",
            "__________________________________________________________________________________________________\n",
            "activation_12 (Activation)      (None, 32, 32, 16)   0           batch_normalization_6[0][0]      \n",
            "__________________________________________________________________________________________________\n",
            "conv2d_11 (Conv2D)              (None, 32, 32, 16)   2320        activation_12[0][0]              \n",
            "__________________________________________________________________________________________________\n",
            "batch_normalization_7 (BatchNor (None, 32, 32, 16)   64          conv2d_11[0][0]                  \n",
            "__________________________________________________________________________________________________\n",
            "add_3 (Add)                     (None, 32, 32, 16)   0           activation_11[0][0]              \n",
            "                                                                 batch_normalization_7[0][0]      \n",
            "__________________________________________________________________________________________________\n",
            "activation_13 (Activation)      (None, 32, 32, 16)   0           add_3[0][0]                      \n",
            "__________________________________________________________________________________________________\n",
            "conv2d_12 (Conv2D)              (None, 16, 16, 32)   4640        activation_13[0][0]              \n",
            "__________________________________________________________________________________________________\n",
            "batch_normalization_8 (BatchNor (None, 16, 16, 32)   128         conv2d_12[0][0]                  \n",
            "__________________________________________________________________________________________________\n",
            "activation_14 (Activation)      (None, 16, 16, 32)   0           batch_normalization_8[0][0]      \n",
            "__________________________________________________________________________________________________\n",
            "conv2d_13 (Conv2D)              (None, 16, 16, 32)   9248        activation_14[0][0]              \n",
            "__________________________________________________________________________________________________\n",
            "conv2d_14 (Conv2D)              (None, 16, 16, 32)   544         activation_13[0][0]              \n",
            "__________________________________________________________________________________________________\n",
            "batch_normalization_9 (BatchNor (None, 16, 16, 32)   128         conv2d_13[0][0]                  \n",
            "__________________________________________________________________________________________________\n",
            "add_4 (Add)                     (None, 16, 16, 32)   0           conv2d_14[0][0]                  \n",
            "                                                                 batch_normalization_9[0][0]      \n",
            "__________________________________________________________________________________________________\n",
            "activation_15 (Activation)      (None, 16, 16, 32)   0           add_4[0][0]                      \n",
            "__________________________________________________________________________________________________\n",
            "conv2d_15 (Conv2D)              (None, 16, 16, 32)   9248        activation_15[0][0]              \n",
            "__________________________________________________________________________________________________\n",
            "batch_normalization_10 (BatchNo (None, 16, 16, 32)   128         conv2d_15[0][0]                  \n",
            "__________________________________________________________________________________________________\n",
            "activation_16 (Activation)      (None, 16, 16, 32)   0           batch_normalization_10[0][0]     \n",
            "__________________________________________________________________________________________________\n",
            "conv2d_16 (Conv2D)              (None, 16, 16, 32)   9248        activation_16[0][0]              \n",
            "__________________________________________________________________________________________________\n",
            "batch_normalization_11 (BatchNo (None, 16, 16, 32)   128         conv2d_16[0][0]                  \n",
            "__________________________________________________________________________________________________\n",
            "add_5 (Add)                     (None, 16, 16, 32)   0           activation_15[0][0]              \n",
            "                                                                 batch_normalization_11[0][0]     \n",
            "__________________________________________________________________________________________________\n",
            "activation_17 (Activation)      (None, 16, 16, 32)   0           add_5[0][0]                      \n",
            "__________________________________________________________________________________________________\n",
            "conv2d_17 (Conv2D)              (None, 16, 16, 32)   9248        activation_17[0][0]              \n",
            "__________________________________________________________________________________________________\n",
            "batch_normalization_12 (BatchNo (None, 16, 16, 32)   128         conv2d_17[0][0]                  \n",
            "__________________________________________________________________________________________________\n",
            "activation_18 (Activation)      (None, 16, 16, 32)   0           batch_normalization_12[0][0]     \n",
            "__________________________________________________________________________________________________\n",
            "conv2d_18 (Conv2D)              (None, 16, 16, 32)   9248        activation_18[0][0]              \n",
            "__________________________________________________________________________________________________\n",
            "batch_normalization_13 (BatchNo (None, 16, 16, 32)   128         conv2d_18[0][0]                  \n",
            "__________________________________________________________________________________________________\n",
            "add_6 (Add)                     (None, 16, 16, 32)   0           activation_17[0][0]              \n",
            "                                                                 batch_normalization_13[0][0]     \n",
            "__________________________________________________________________________________________________\n",
            "activation_19 (Activation)      (None, 16, 16, 32)   0           add_6[0][0]                      \n",
            "__________________________________________________________________________________________________\n",
            "conv2d_19 (Conv2D)              (None, 8, 8, 64)     18496       activation_19[0][0]              \n",
            "__________________________________________________________________________________________________\n",
            "batch_normalization_14 (BatchNo (None, 8, 8, 64)     256         conv2d_19[0][0]                  \n",
            "__________________________________________________________________________________________________\n",
            "activation_20 (Activation)      (None, 8, 8, 64)     0           batch_normalization_14[0][0]     \n",
            "__________________________________________________________________________________________________\n",
            "conv2d_20 (Conv2D)              (None, 8, 8, 64)     36928       activation_20[0][0]              \n",
            "__________________________________________________________________________________________________\n",
            "conv2d_21 (Conv2D)              (None, 8, 8, 64)     2112        activation_19[0][0]              \n",
            "__________________________________________________________________________________________________\n",
            "batch_normalization_15 (BatchNo (None, 8, 8, 64)     256         conv2d_20[0][0]                  \n",
            "__________________________________________________________________________________________________\n",
            "add_7 (Add)                     (None, 8, 8, 64)     0           conv2d_21[0][0]                  \n",
            "                                                                 batch_normalization_15[0][0]     \n",
            "__________________________________________________________________________________________________\n",
            "activation_21 (Activation)      (None, 8, 8, 64)     0           add_7[0][0]                      \n",
            "__________________________________________________________________________________________________\n",
            "conv2d_22 (Conv2D)              (None, 8, 8, 64)     36928       activation_21[0][0]              \n",
            "__________________________________________________________________________________________________\n",
            "batch_normalization_16 (BatchNo (None, 8, 8, 64)     256         conv2d_22[0][0]                  \n",
            "__________________________________________________________________________________________________\n",
            "activation_22 (Activation)      (None, 8, 8, 64)     0           batch_normalization_16[0][0]     \n",
            "__________________________________________________________________________________________________\n",
            "conv2d_23 (Conv2D)              (None, 8, 8, 64)     36928       activation_22[0][0]              \n",
            "__________________________________________________________________________________________________\n",
            "batch_normalization_17 (BatchNo (None, 8, 8, 64)     256         conv2d_23[0][0]                  \n",
            "__________________________________________________________________________________________________\n",
            "add_8 (Add)                     (None, 8, 8, 64)     0           activation_21[0][0]              \n",
            "                                                                 batch_normalization_17[0][0]     \n",
            "__________________________________________________________________________________________________\n",
            "activation_23 (Activation)      (None, 8, 8, 64)     0           add_8[0][0]                      \n",
            "__________________________________________________________________________________________________\n",
            "conv2d_24 (Conv2D)              (None, 8, 8, 64)     36928       activation_23[0][0]              \n",
            "__________________________________________________________________________________________________\n",
            "batch_normalization_18 (BatchNo (None, 8, 8, 64)     256         conv2d_24[0][0]                  \n",
            "__________________________________________________________________________________________________\n",
            "activation_24 (Activation)      (None, 8, 8, 64)     0           batch_normalization_18[0][0]     \n",
            "__________________________________________________________________________________________________\n",
            "conv2d_25 (Conv2D)              (None, 8, 8, 64)     36928       activation_24[0][0]              \n",
            "__________________________________________________________________________________________________\n",
            "batch_normalization_19 (BatchNo (None, 8, 8, 64)     256         conv2d_25[0][0]                  \n",
            "__________________________________________________________________________________________________\n",
            "add_9 (Add)                     (None, 8, 8, 64)     0           activation_23[0][0]              \n",
            "                                                                 batch_normalization_19[0][0]     \n",
            "__________________________________________________________________________________________________\n",
            "activation_25 (Activation)      (None, 8, 8, 64)     0           add_9[0][0]                      \n",
            "__________________________________________________________________________________________________\n",
            "average_pooling2d_1 (AveragePoo (None, 1, 1, 64)     0           activation_25[0][0]              \n",
            "__________________________________________________________________________________________________\n",
            "flatten_2 (Flatten)             (None, 64)           0           average_pooling2d_1[0][0]        \n",
            "__________________________________________________________________________________________________\n",
            "dense_3 (Dense)                 (None, 10)           650         flatten_2[0][0]                  \n",
            "==================================================================================================\n",
            "Total params: 274,442\n",
            "Trainable params: 273,066\n",
            "Non-trainable params: 1,376\n",
            "__________________________________________________________________________________________________\n",
            "None\n"
          ],
          "name": "stdout"
        }
      ]
    },
    {
      "metadata": {
        "id": "Vs5DBBjJ6IFR",
        "colab_type": "code",
        "colab": {
          "autoexec": {
            "startup": false,
            "wait_interval": 0
          }
        }
      },
      "cell_type": "code",
      "source": [
        "# Import and set callbacks\n",
        "from keras.callbacks import ModelCheckpoint, CSVLogger, TensorBoard\n",
        "from keras.callbacks import LearningRateScheduler, ReduceLROnPlateau\n",
        "\n",
        "callbacks = [\n",
        "    \n",
        "    # saves best model weights based on validation loss\n",
        "    ModelCheckpoint(filepath+'/weights/weights.{epoch:02d}-{val_loss:.2f}.hdf5',\n",
        "                    monitor='val_loss',\n",
        "                    save_best_only=True, \n",
        "                    save_weights_only=True),\n",
        "    \n",
        "    # writes log history to CSV file\n",
        "    CSVLogger(filename=filepath+'/log.csv'),\n",
        "    \n",
        "    # changes learning rate based on epoch schedule\n",
        "    LearningRateScheduler(lr_schedule),\n",
        "    \n",
        "    # reduces learning rate when validation loss stops improving\n",
        "    ReduceLROnPlateau(factor=np.sqrt(0.1),\n",
        "                      cooldown=0,\n",
        "                      patience=5,\n",
        "                      min_lr=0.5e-6),\n",
        "    \n",
        "    # https://www.tensorflow.org/programmers_guide/summaries_and_tensorboard\n",
        "    TensorBoard(log_dir=filepath+'/tensorboard/', \n",
        "                histogram_freq=0, \n",
        "                batch_size=32, \n",
        "                write_graph=True)\n",
        "            \n",
        "            ]"
      ],
      "execution_count": 0,
      "outputs": []
    },
    {
      "metadata": {
        "id": "zaD4pPME6IFT",
        "colab_type": "code",
        "colab": {
          "autoexec": {
            "startup": false,
            "wait_interval": 0
          },
          "base_uri": "https://localhost:8080/",
          "height": 204
        },
        "outputId": "7e613f83-3ba7-449f-a029-2b3b51772b6c",
        "executionInfo": {
          "status": "ok",
          "timestamp": 1527387996724,
          "user_tz": 240,
          "elapsed": 454071,
          "user": {
            "displayName": "Sterling",
            "photoUrl": "https://lh3.googleusercontent.com/a/default-user=s128",
            "userId": "112476884771348857283"
          }
        }
      },
      "cell_type": "code",
      "source": [
        "# Train ResNet model with callbacks and validation set\n",
        "resnet_model.fit(x_train, y_train, \n",
        "                 batch_size=BATCH_SIZE, \n",
        "                 epochs=EPOCHS,\n",
        "                 validation_data=(x_test, y_test),\n",
        "                 callbacks=callbacks,\n",
        "                 verbose=0)\n",
        "\n",
        "print('Finished training')"
      ],
      "execution_count": 26,
      "outputs": [
        {
          "output_type": "stream",
          "text": [
            "Learning rate:  0.001\n",
            "Learning rate:  0.001\n",
            "Learning rate:  0.001\n",
            "Learning rate:  0.001\n",
            "Learning rate:  0.001\n",
            "Learning rate:  0.001\n",
            "Learning rate:  0.001\n",
            "Learning rate:  0.001\n",
            "Learning rate:  0.0005\n",
            "Learning rate:  0.0005\n",
            "Finished training\n"
          ],
          "name": "stdout"
        }
      ]
    },
    {
      "metadata": {
        "id": "iz66WTAwlp7E",
        "colab_type": "code",
        "colab": {
          "autoexec": {
            "startup": false,
            "wait_interval": 0
          },
          "base_uri": "https://localhost:8080/",
          "height": 68
        },
        "outputId": "d50a9eb5-96d1-4380-f80b-4ca57b7ab232",
        "executionInfo": {
          "status": "ok",
          "timestamp": 1527387998066,
          "user_tz": 240,
          "elapsed": 1313,
          "user": {
            "displayName": "Sterling",
            "photoUrl": "https://lh3.googleusercontent.com/a/default-user=s128",
            "userId": "112476884771348857283"
          }
        }
      },
      "cell_type": "code",
      "source": [
        "# Preview log file\n",
        "# !head -3 log.csv"
      ],
      "execution_count": 27,
      "outputs": [
        {
          "output_type": "stream",
          "text": [
            "epoch,acc,loss,val_acc,val_loss\r\r\n",
            "0,0.49438000003814697,1.5157225591659547,0.4155,1.989039910507202\r\r\n",
            "1,0.6413000000190735,1.121322345199585,0.5952,1.2697664144515992\r\r\n"
          ],
          "name": "stdout"
        }
      ]
    },
    {
      "metadata": {
        "id": "Uw6NCd3B6IFW",
        "colab_type": "code",
        "colab": {
          "autoexec": {
            "startup": false,
            "wait_interval": 0
          },
          "base_uri": "https://localhost:8080/",
          "height": 68
        },
        "outputId": "c139bfe8-ff0e-4aec-a1b3-f6f8cb443910",
        "executionInfo": {
          "status": "ok",
          "timestamp": 1527388004477,
          "user_tz": 240,
          "elapsed": 5323,
          "user": {
            "displayName": "Sterling",
            "photoUrl": "https://lh3.googleusercontent.com/a/default-user=s128",
            "userId": "112476884771348857283"
          }
        }
      },
      "cell_type": "code",
      "source": [
        "# Score trained model\n",
        "scores = resnet_model.evaluate(x_test, y_test, verbose=1)\n",
        "print('Test loss:', scores[0])\n",
        "print('Test accuracy:', scores[1])"
      ],
      "execution_count": 28,
      "outputs": [
        {
          "output_type": "stream",
          "text": [
            "10000/10000 [==============================] - 5s 509us/step\n",
            "Test loss: 0.8432758609771729\n",
            "Test accuracy: 0.7787\n"
          ],
          "name": "stdout"
        }
      ]
    }
  ]
}
